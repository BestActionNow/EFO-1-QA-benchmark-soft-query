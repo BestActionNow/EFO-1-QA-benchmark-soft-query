{
 "cells": [
  {
   "cell_type": "code",
   "execution_count": 1,
   "metadata": {},
   "outputs": [],
   "source": [
    "import pandas as pd"
   ]
  },
  {
   "cell_type": "code",
   "execution_count": 23,
   "metadata": {},
   "outputs": [],
   "source": [
    "df = pd.read_csv('logs/generated_formula_anchor_node=3.csv')"
   ]
  },
  {
   "cell_type": "code",
   "execution_count": 33,
   "metadata": {},
   "outputs": [
    {
     "name": "stdout",
     "output_type": "stream",
     "text": [
      "1 1 1\n",
      "1 2 1\n",
      "1 3 1\n",
      "2 1 3\n",
      "2 2 10\n",
      "2 3 13\n",
      "4             (p,(i,(p,(e)),(p,(p,(e)))))\n",
      "6         (p,(i,(p,(p,(e))),(p,(p,(e)))))\n",
      "7         (p,(i,(n,(p,(e))),(p,(p,(e)))))\n",
      "9             (p,(u,(p,(e)),(p,(p,(e)))))\n",
      "10        (p,(u,(p,(p,(e))),(p,(p,(e)))))\n",
      "13            (i,(p,(e)),(p,(p,(p,(e)))))\n",
      "17        (i,(p,(p,(e))),(p,(p,(p,(e)))))\n",
      "20    (i,(p,(p,(p,(e)))),(p,(p,(p,(e)))))\n",
      "21        (i,(n,(p,(e))),(p,(p,(p,(e)))))\n",
      "22    (i,(n,(p,(p,(e)))),(p,(p,(p,(e)))))\n",
      "25            (u,(p,(e)),(p,(p,(p,(e)))))\n",
      "27        (u,(p,(p,(e))),(p,(p,(p,(e)))))\n",
      "28    (u,(p,(p,(p,(e)))),(p,(p,(p,(e)))))\n",
      "Name: original, dtype: object\n",
      "3 1 12\n",
      "3 2 91\n",
      "3 3 169\n"
     ]
    }
   ],
   "source": [
    "for (ec, pc), subdf in df.groupby([\"num_anchor_nodes\", \"original_depth\"]):\n",
    "    print(ec, pc, len(subdf[forms]))\n",
    "    if ec == 2 and pc == 3:\n",
    "        print(subdf['original'])"
   ]
  },
  {
   "cell_type": "code",
   "execution_count": 38,
   "metadata": {},
   "outputs": [],
   "source": [
    "n_counts = 0\n",
    "for i, row in df.iterrows():\n",
    "    if 'n' in row.DNF:\n",
    "        n_counts += 1\n",
    "        "
   ]
  },
  {
   "cell_type": "code",
   "execution_count": 39,
   "metadata": {},
   "outputs": [
    {
     "data": {
      "text/plain": [
       "148"
      ]
     },
     "execution_count": 39,
     "metadata": {},
     "output_type": "execute_result"
    }
   ],
   "source": [
    "n_counts"
   ]
  },
  {
   "cell_type": "code",
   "execution_count": 40,
   "metadata": {},
   "outputs": [
    {
     "data": {
      "text/plain": [
       "0.49169435215946844"
      ]
     },
     "execution_count": 40,
     "metadata": {},
     "output_type": "execute_result"
    }
   ],
   "source": [
    "148 / 301"
   ]
  },
  {
   "cell_type": "code",
   "execution_count": 41,
   "metadata": {},
   "outputs": [
    {
     "data": {
      "text/plain": [
       "0.35714285714285715"
      ]
     },
     "execution_count": 41,
     "metadata": {},
     "output_type": "execute_result"
    }
   ],
   "source": [
    "5 / 14"
   ]
  },
  {
   "cell_type": "code",
   "execution_count": null,
   "metadata": {},
   "outputs": [],
   "source": []
  }
 ],
 "metadata": {
  "kernelspec": {
   "display_name": "Python 3",
   "language": "python",
   "name": "python3"
  },
  "language_info": {
   "codemirror_mode": {
    "name": "ipython",
    "version": 3
   },
   "file_extension": ".py",
   "mimetype": "text/x-python",
   "name": "python",
   "nbconvert_exporter": "python",
   "pygments_lexer": "ipython3",
   "version": "3.8.5"
  }
 },
 "nbformat": 4,
 "nbformat_minor": 4
}
